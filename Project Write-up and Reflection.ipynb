{
 "cells": [
  {
   "cell_type": "markdown",
   "metadata": {},
   "source": [
    "# Project Overview"
   ]
  },
  {
   "cell_type": "markdown",
   "metadata": {},
   "source": [
    "We created game that allows people to build their own Olin portforlio whose advances depend on a series of Olin courses chosen by the user. \n",
    "This concept is inspired by the Grow Series games, specifically Grow Island (http://www.eyezmaze.com/grow/island/)"
   ]
  },
  {
   "cell_type": "markdown",
   "metadata": {},
   "source": [
    "# Results [~2-3 paragraphs + figures/examples]"
   ]
  },
  {
   "cell_type": "markdown",
   "metadata": {},
   "source": [
    "Present what you accomplished. This will be different for each project, but screenshots are likely to be helpful"
   ]
  },
  {
   "cell_type": "markdown",
   "metadata": {},
   "source": []
  },
  {
   "cell_type": "markdown",
   "metadata": {},
   "source": [
    "# Implementation [~2-3 paragraphs + UML diagram]"
   ]
  },
  {
   "cell_type": "markdown",
   "metadata": {},
   "source": [
    "Describe your implementation at a system architecture level. Include a UML class diagram, and talk about the major components, algorithms, data structures and how they fit together. You should also discuss at least one design decision where you had to choose between multiple alternatives, and explain why you made the choice you did."
   ]
  },
  {
   "cell_type": "markdown",
   "metadata": {},
   "source": []
  },
  {
   "cell_type": "markdown",
   "metadata": {},
   "source": [
    "# Reflection [~2 paragraphs]"
   ]
  },
  {
   "cell_type": "markdown",
   "metadata": {},
   "source": [
    "Overall, working on this project was a great learning experience on how to build an interactive graphic with pygame and how code collaboratively. The project was divided into two parts: control algorithms and graphics. Each side of the project proved challenging and engaging to their owners. However, obvisouly, with three members in the team, the separation of the responsibilities was not as clear as it would have been with two member teams. The third member of our team often needed to complete sub-tasks for both algorithm and graphics, which presented challenges, such as Git merge errors and overload of code to examine. Our team has memebers from two different colleges, which resulted in different schedules and difficulty of meeting up in one setting. Despite these obstacles, our team still met more than four times in the span of two weeks, not including class time, and keep an active group chat to update each other on our progress.\n",
    "\n",
    "The most challanging part of the game development process was integration. Basically, both algorithms and and graphics had to meet each other halfway in a 'main' script to communicate to each other through passing of events and decisions. This time-consuming task forced all three members to teach each other the workings of their code. This process could have been optimized by creating a more in-depth model of our code prior to implementation. For the upcoming final project, some lessons we will all take with us is to emphasize initial code design, increase frequency of updates to team members, and clearly define individual tasks for each member."
   ]
  }
 ],
 "metadata": {
  "kernelspec": {
   "display_name": "Python 3",
   "language": "python",
   "name": "python3"
  },
  "language_info": {
   "codemirror_mode": {
    "name": "ipython",
    "version": 3
   },
   "file_extension": ".py",
   "mimetype": "text/x-python",
   "name": "python",
   "nbconvert_exporter": "python",
   "pygments_lexer": "ipython3",
   "version": "3.6.1"
  }
 },
 "nbformat": 4,
 "nbformat_minor": 2
}
