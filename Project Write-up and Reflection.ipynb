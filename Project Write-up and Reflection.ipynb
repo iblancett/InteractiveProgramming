{
 "cells": [
  {
   "cell_type": "markdown",
   "metadata": {},
   "source": [
    "# Project Overview"
   ]
  },
  {
   "cell_type": "markdown",
   "metadata": {},
   "source": [
    "Our project is a game that allows people to build their own Olin portforlio whose advances depend on a series of Olin courses chosen by the user. \n",
    "This concept is inspired by the Grow Series games, specifically Grow Island (http://www.eyezmaza.com/grow/island/)"
   ]
  },
  {
   "cell_type": "markdown",
   "metadata": {},
   "source": [
    "# Results [~2-3 paragraphs + figures/examples]"
   ]
  },
  {
   "cell_type": "markdown",
   "metadata": {},
   "source": [
    "Present what you accomplished. This will be different for each project, but screenshots are likely to be helpful"
   ]
  },
  {
   "cell_type": "markdown",
   "metadata": {},
   "source": []
  },
  {
   "cell_type": "markdown",
   "metadata": {},
   "source": [
    "# Implementation [~2-3 paragraphs + UML diagram]"
   ]
  },
  {
   "cell_type": "markdown",
   "metadata": {},
   "source": [
    "Describe your implementation at a system architecture level. Include a UML class diagram, and talk about the major components, algorithms, data structures and how they fit together. You should also discuss at least one design decision where you had to choose between multiple alternatives, and explain why you made the choice you did."
   ]
  },
  {
   "cell_type": "markdown",
   "metadata": {},
   "source": []
  },
  {
   "cell_type": "markdown",
   "metadata": {},
   "source": [
    "# Reflection [~2 paragraphs]"
   ]
  },
  {
   "cell_type": "markdown",
   "metadata": {},
   "source": [
    "Overall, working on this project was a great learning experience on how to build an interactive graphic with pygame and how to work in a team. The project was divided into two parts: algorithm and graphic. It worked out pretty well in general. However, obvisouly, with three members in the team, the separation of the responsibilities was not as clear as two member teams. The third member of our team often needed to complete sub-tasks for both algorithm and graphics. There were definitely some challanges along with that, such as logistics and communication among the team. Our team has memebers from two different colleges, which resulted in different schedules and the difficulty of meeting up in one setting. Despite of the difficulty, our team still met more than 4 times in the span of two weeks. In order to better tackle the challanges, we also made a groupchat for better communication. \n",
    "\n",
    "The most challanging step or the bottleneck of the project is the implementation part. We had to figure out a good way to combine the algorithm and graphics so that the program could function what we wanted. This requires each member of the team to be fully understanding of both graphics and algorithm. Slight miscommunication might cause a delay for the project. We spent about a week for the implementation step of the project. For the upcoming final project, we can definitely work on better spliting duties for each member, more comments along with the codes, and more frequent updates among the team so everyone is always in loops of how each code works at all time. "
   ]
  }
 ],
 "metadata": {
  "kernelspec": {
   "display_name": "Python 3",
   "language": "python",
   "name": "python3"
  },
  "language_info": {
   "codemirror_mode": {
    "name": "ipython",
    "version": 3
   },
   "file_extension": ".py",
   "mimetype": "text/x-python",
   "name": "python",
   "nbconvert_exporter": "python",
   "pygments_lexer": "ipython3",
   "version": "3.6.1"
  }
 },
 "nbformat": 4,
 "nbformat_minor": 2
}
